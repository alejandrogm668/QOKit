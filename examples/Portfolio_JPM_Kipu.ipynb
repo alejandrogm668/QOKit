{
 "cells": [
  {
   "cell_type": "code",
   "execution_count": 1,
   "metadata": {},
   "outputs": [],
   "source": [
    "import numpy as np\n",
    "from qokit.portfolio_optimization import get_problem"
   ]
  },
  {
   "cell_type": "code",
   "execution_count": 2,
   "metadata": {},
   "outputs": [],
   "source": [
    "po_problem = get_problem(N=6,K=3,q=0.5,seed=1,pre=1)\n",
    "means_in_spins = np.array([po_problem['means'][i] - po_problem['q'] * np.sum(po_problem['cov'][i, :]) for i in range(len(po_problem['means']))])\n",
    "scale = 1 / (np.sqrt(np.mean((( po_problem['q']*po_problem['cov'])**2).flatten()))+np.sqrt(np.mean((means_in_spins**2).flatten())))\n",
    "\n",
    "po_problem = get_problem(N=6,K=3,q=0.5,seed=1,pre=scale)"
   ]
  },
  {
   "cell_type": "code",
   "execution_count": 3,
   "metadata": {},
   "outputs": [],
   "source": [
    "from qokit.portfolio_optimization import portfolio_brute_force, get_sk_ini\n",
    "from qokit.qaoa_objective_portfolio import get_qaoa_portfolio_objective"
   ]
  },
  {
   "cell_type": "code",
   "execution_count": 19,
   "metadata": {},
   "outputs": [],
   "source": [
    "p = 1\n",
    "qaoa_obj = get_qaoa_portfolio_objective(po_problem=po_problem,p=p,ini='dicke',mixer='trotter_ring',T=1,simulator='python')\n",
    "best_portfolio = portfolio_brute_force(po_problem,return_bitstring=False)\n",
    "\n",
    "x0 = get_sk_ini(p=p) "
   ]
  },
  {
   "cell_type": "code",
   "execution_count": 17,
   "metadata": {},
   "outputs": [
    {
     "name": "stdout",
     "output_type": "stream",
     "text": [
      "energy = 0.004962484517944696, Approximation ratio = 0.7564585339722991\n"
     ]
    }
   ],
   "source": [
    "po_energy = qaoa_obj(x0).real\n",
    "po_ar = (po_energy-best_portfolio[1])/(best_portfolio[0]-best_portfolio[1])\n",
    "print(f\"energy = {po_energy}, Approximation ratio = {po_ar}\")"
   ]
  },
  {
   "cell_type": "code",
   "execution_count": 20,
   "metadata": {},
   "outputs": [],
   "source": [
    "from scipy.optimize import minimize\n",
    "import nlopt"
   ]
  },
  {
   "cell_type": "code",
   "execution_count": 21,
   "metadata": {},
   "outputs": [],
   "source": [
    "def minimize_nlopt(f, x0, rhobeg=None, p=None):\n",
    "    def nlopt_wrapper(x, grad):\n",
    "        if grad.size > 0:\n",
    "            sys.exit(\"Shouldn't be calling a gradient!\")\n",
    "        return f(x).real\n",
    "\n",
    "    opt = nlopt.opt(nlopt.LN_BOBYQA, 2 * p)\n",
    "    opt.set_min_objective(nlopt_wrapper)\n",
    "\n",
    "    opt.set_xtol_rel(1e-8)\n",
    "    opt.set_ftol_rel(1e-8)\n",
    "    opt.set_initial_step(rhobeg)\n",
    "    xstar = opt.optimize(x0)\n",
    "    minf = opt.last_optimum_value()\n",
    "\n",
    "    return xstar, minf"
   ]
  },
  {
   "cell_type": "code",
   "execution_count": null,
   "metadata": {},
   "outputs": [],
   "source": [
    "_, opt_energy = minimize_nlopt(qaoa_obj, x0, p=1, rhobeg=0.01/1)\n",
    "opt_ar = (opt_energy-best_portfolio[1])/(best_portfolio[0]-best_portfolio[1])\n",
    "print(f\"energy = {opt_energy}, Approximation ratio = {opt_ar}\")"
   ]
  }
 ],
 "metadata": {
  "kernelspec": {
   "display_name": ".venv_qokit",
   "language": "python",
   "name": "python3"
  },
  "language_info": {
   "codemirror_mode": {
    "name": "ipython",
    "version": 3
   },
   "file_extension": ".py",
   "mimetype": "text/x-python",
   "name": "python",
   "nbconvert_exporter": "python",
   "pygments_lexer": "ipython3",
   "version": "3.9.13"
  },
  "orig_nbformat": 4
 },
 "nbformat": 4,
 "nbformat_minor": 2
}
